{
 "cells": [
  {
   "cell_type": "markdown",
   "id": "increasing-mexico",
   "metadata": {},
   "source": [
    "# NumPy  \n",
    "  \n",
    "Es una librería para trabajar con vectores y matrices multidimensionales, con una colección de funciones matemáticas\n",
    "poderosas.  \n",
    "  \n",
    "Su estructura de datos fundamental es *ndarray* que permite configurar una matriz de *n* dimensiones. La matriz debe ser homogénea.\n",
    "\n",
    "## Instalación\n",
    "\n",
    "pip install numpy\n",
    "\n",
    "## Creación de un ndarray\n",
    "\n",
    "np.array(*secuencia*)"
   ]
  },
  {
   "source": [
    "import numpy as np\n",
    "vec=np.array([2,4,8,3])\n",
    "print(vec)\n",
    "print(type(vec))\n",
    "print(vec.dtype) # tipo de dato que almacena el array\n",
    "vec=np.array([1.2,3,5.4])\n",
    "print(vec.dtype)\n",
    "print(vec)"
   ],
   "cell_type": "code",
   "metadata": {},
   "execution_count": null,
   "outputs": []
  },
  {
   "cell_type": "markdown",
   "id": "fabulous-thomas",
   "metadata": {},
   "source": [
    "Transforma secuencias de secuencias en un array de 2 dimensiones, secuencias de secuencias de secuencias en uno de 3 y así sucesivamente:"
   ]
  },
  {
   "cell_type": "code",
   "execution_count": null,
   "id": "conventional-plane",
   "metadata": {},
   "outputs": [],
   "source": [
    "import numpy as np\n",
    "dosD=np.array([[1,4,2], [4,5,3]])\n",
    "print(dosD)\n",
    "print(\"---\")\n",
    "tresD=np.array((((1,2),(4,3),(5,3)),((8,9),(2,6),(2,1))))\n",
    "print(tresD)"
   ]
  },
  {
   "cell_type": "markdown",
   "id": "realistic-story",
   "metadata": {},
   "source": [
    "Podemos declarar el tipo en su constructor:"
   ]
  },
  {
   "cell_type": "code",
   "execution_count": null,
   "id": "excited-netscape",
   "metadata": {},
   "outputs": [],
   "source": [
    "import numpy as np\n",
    "complejo=np.array([1,5,2,3], dtype=\"complex\")\n",
    "print(complejo)\n",
    "flotante=np.array([1,5,2,3], dtype=\"float64\")\n",
    "print(flotante)"
   ]
  },
  {
   "cell_type": "markdown",
   "id": "lasting-condition",
   "metadata": {},
   "source": [
    "Y si ya tenía las listas, con lo cual puedo hacer un array usando una lista, una matriz 2D usando una lista de listas, y así sucesivamente, ¿para qué tengo numpy? Porque tengo unas operaciones impresionantes!"
   ]
  },
  {
   "cell_type": "code",
   "execution_count": null,
   "id": "disabled-biology",
   "metadata": {},
   "outputs": [],
   "source": [
    "import numpy as np\n",
    "vector=np.random.randint(1, 100, 10) #Generación de arrays con valores aleatorios randint(numini, numfin, cantidad)\n",
    "vector2=np.random.randint(1, 100, 10)\n",
    "\n",
    "print(\"Vector: {}\".format(vector))\n",
    "print(\"Vector2: {}\".format(vector2))\n",
    "print(\"Vector con elementos duplicados: {}\".format(vector*2))\n",
    "print(\"Suma de los elementos de Vector: {}\".format(np.sum(vector)))\n",
    "print(\"Media del Vector: {}\".format(np.mean(vector)))\n",
    "print(\"Suma de vectores: {}\".format(vector+vector2))\n",
    "print(\"Un slice: {}\".format(vector2[3:6]))"
   ]
  },
  {
   "cell_type": "markdown",
   "id": "valued-dublin",
   "metadata": {},
   "source": [
    "El manejo de los slices del vector se realiza de la misma manera que con las secuencias *[inicio:fin]*\n",
    "\n",
    "## Matrices\n",
    "\n",
    "Las puedo crear con listas de listas, o listas de listas de listas, y así sucesivamente según la cantidad de dimensiones. En los métodos donde se genera automáticamente la matriz, en el parámetro de tamaño paso una tupla con las dimensiones."
   ]
  },
  {
   "cell_type": "code",
   "execution_count": null,
   "id": "raised-parallel",
   "metadata": {},
   "outputs": [],
   "source": [
    "import numpy as np\n",
    "dimensiones=(5,4)\n",
    "matriz=np.random.randint(1, 100, dimensiones) #Generación de matriz con valores aleatorios\n",
    "matriz2=np.ones(dimensiones) # Generación con unos.\n",
    "matriz3=np.zeros(dimensiones) # Generación con ceros\n",
    "print(matriz)\n",
    "print(\"---\")\n",
    "print(matriz2)\n",
    "print(\"---\")\n",
    "print(matriz3)\n",
    "print(\"----\")\n",
    "print(matriz2-0.5)"
   ]
  },
  {
   "cell_type": "markdown",
   "id": "vulnerable-basis",
   "metadata": {},
   "source": [
    "Ahora puedo utilizar los slices para acceder a sus elementos, pero considerando que tenemos 2 dimensiones, vamos a tener dos rangos, el primero para las filas y el segundo para las columnas. Así aumentaríamos los rangos según la cantidad de dimensiones que maneje."
   ]
  },
  {
   "cell_type": "code",
   "execution_count": null,
   "id": "adjusted-plasma",
   "metadata": {},
   "outputs": [],
   "source": [
    "import numpy as np\n",
    "dimensiones=(5,4)\n",
    "matriz=np.random.randint(1, 100, dimensiones) #Generación de matriz con valores aleatorios\n",
    "print(matriz)\n",
    "print(\"---\")\n",
    "print(matriz[0,0]) # Un elemento en la posición deseada de la matriz\n",
    "print(\"---\")\n",
    "print(matriz[1,:]) # Fila 1 de la matriz\n",
    "print(\"---\")\n",
    "print(matriz[:, 3]) # Columna 3 de la matriz\n",
    "print(\"---\")\n",
    "print(matriz[0:2, 0:2]) # Submatriz de 2x2 de la esquina superior izquierda"
   ]
  },
  {
   "cell_type": "code",
   "execution_count": null,
   "id": "thousand-helmet",
   "metadata": {},
   "outputs": [],
   "source": [
    "#Operaciones con matrices\n",
    "import numpy as np\n",
    "dimensiones=(5,4)\n",
    "matriz=np.random.randint(1, 100, dimensiones) #Generación de matriz con valores aleatorios\n",
    "print(matriz)\n",
    "print(\"---\")\n",
    "matriz[:,1]=matriz[:,1]*2 #Multiplico por 2 la segunda columna\n",
    "print(matriz)\n",
    "print(\"---\")\n",
    "matriz[3:]=matriz[4:] #Copio la fila 4 en la 3\n",
    "print(matriz)\n",
    "print(\"---\")"
   ]
  },
  {
   "cell_type": "markdown",
   "id": "danish-description",
   "metadata": {},
   "source": [
    "## Numpy y las imágenes\n",
    "\n",
    "Dado que una imagen no es más que una matriz numérica, donde los números representan sus píxeles, numpy nos dejará operar sobre la imagen realizando diversos tipos de procedimiento sobre sus valores\n",
    "\n",
    "Para poder mostrar la imagen en pantalla y realizar ciertas operaciones, usaremos el módulo ***OpenCV***. Ver cómo instalarlo!"
   ]
  },
  {
   "cell_type": "markdown",
   "id": "vanilla-italian",
   "metadata": {},
   "source": [
    "<center><img src=\"images/chalten.jpg\" alt=\"Chalten\" title=\"Imagen que vamos a procesar\" /></center><br>"
   ]
  },
  {
   "cell_type": "code",
   "execution_count": null,
   "id": "artistic-reform",
   "metadata": {},
   "outputs": [],
   "source": [
    "import cv2\n",
    "img=cv2.imread(\"images/chalten.jpg\") # Abrir un archivo con una imagen\n",
    "# ¿Qué quedó en img?\n",
    "print(type(img))\n",
    "print(\"¡SIII, un array de numpy!\")\n",
    "print(\"Dimensiones de la imagen: {}\", img.shape) # La última dimensión son los valores de los colores\n",
    "cv2.imshow('Chalten', img) # Muestra img en una ventana\n",
    "cv2.waitKey(0) # espera una tecla para salir\n",
    "cv2.destroyAllWindows() # Destruye todas las ventanas creadas (si no se va a colgar el kernel!)"
   ]
  },
  {
   "cell_type": "code",
   "execution_count": null,
   "id": "indie-communications",
   "metadata": {},
   "outputs": [],
   "source": [
    "# Y ahora a empezar a jugar!!!\n",
    "import cv2\n",
    "img=cv2.imread(\"images/chalten.jpg\")\n",
    "img[:,:,2]=0 # 0:Blue, 1:Green, 2:Red\n",
    "img[:,:,1]=0\n",
    "cv2.imshow('Chalten', img)\n",
    "cv2.waitKey(0) \n",
    "cv2.destroyAllWindows()"
   ]
  },
  {
   "cell_type": "code",
   "execution_count": null,
   "id": "intimate-marble",
   "metadata": {},
   "outputs": [],
   "source": [
    "import cv2\n",
    "img=cv2.imread(\"images/chalten.jpg\")\n",
    "img=255-img #Negativo!!\n",
    "cv2.imshow('Chalten', img)\n",
    "cv2.waitKey(0) \n",
    "cv2.destroyAllWindows()"
   ]
  },
  {
   "cell_type": "code",
   "execution_count": null,
   "id": "toxic-friendly",
   "metadata": {},
   "outputs": [],
   "source": [
    "import cv2\n",
    "img=cv2.imread(\"images/chalten.jpg\")\n",
    "img2=img[0:300, 0:250] #Tomo una parte de la imagen\n",
    "cv2.imshow('Chalten', img2) \n",
    "cv2.waitKey(0) \n",
    "cv2.destroyAllWindows()"
   ]
  },
  {
   "cell_type": "code",
   "execution_count": null,
   "id": "cleared-blake",
   "metadata": {},
   "outputs": [],
   "source": [
    "import cv2\n",
    "import numpy as np\n",
    "img=cv2.imread(\"images/chalten.jpg\")\n",
    "img2=np.flip(img, 0) # Flipeamos la matriz\n",
    "cv2.imshow('Chalten', img) \n",
    "cv2.imshow('Chalten Invertido', img2) \n",
    "cv2.waitKey(0) \n",
    "cv2.destroyAllWindows()"
   ]
  },
  {
   "cell_type": "code",
   "execution_count": null,
   "id": "beneficial-greensboro",
   "metadata": {},
   "outputs": [],
   "source": [
    "#Algunas funciones de OpenCV\n",
    "import cv2\n",
    "import numpy as np\n",
    "img=cv2.imread(\"images/chalten.jpg\")\n",
    "img2=cv2.medianBlur(img, 5)\n",
    "img3=cv2.rotate(img, cv2.ROTATE_90_CLOCKWISE) # El segundo parámetro es una constante que me indica cómo rotar\n",
    "img4=np.rot90(img,2) # El segundo parámetro me indica la cantidad de rotaciones a aplicar\n",
    "cv2.imshow('Chalten', img) \n",
    "cv2.imshow('Chalten Borroso', img2) \n",
    "cv2.imshow('Chalten Rotado', img3) \n",
    "cv2.imshow('Chalten Rotado por numpy', img4) \n",
    "cv2.waitKey(0) \n",
    "cv2.destroyAllWindows()"
   ]
  },
  {
   "cell_type": "code",
   "execution_count": null,
   "id": "regular-colonial",
   "metadata": {},
   "outputs": [],
   "source": [
    "# Conversión de color \n",
    "# https://docs.opencv.org/3.4/d8/d01/group__imgproc__color__conversions.html#ga4e0972be5de079fed4e3a10e24ef5ef0\n",
    "import cv2\n",
    "import numpy as np\n",
    "img=cv2.imread(\"images/chalten.jpg\")\n",
    "img2=cv2.cvtColor(img, cv2.COLOR_RGB2GRAY)\n",
    "cv2.imshow('Chalten en gris', img2) \n",
    "cv2.waitKey(0) \n",
    "cv2.destroyAllWindows()"
   ]
  },
  {
   "cell_type": "code",
   "execution_count": null,
   "id": "geological-photographer",
   "metadata": {},
   "outputs": [],
   "source": [
    "# Detección de bordes\n",
    "# cv2.Canny(imagen, minval, maxval)\n",
    "# Primero calcula los gradientes (cuánto cambia el valor del pixel con respecto a sus vecinos)\n",
    "# Luego considera sí o sí bordes los que superan el maxval, y no los que están por debajo de minval. Para lo que queda en el medio\n",
    "# analiza la continuidad con otro borde\n",
    "import cv2\n",
    "import numpy as np\n",
    "img=cv2.imread(\"images/chalten.jpg\")\n",
    "img2=cv2.Canny(img, 100, 200)\n",
    "cv2.imshow('Bordes detectados', img2) \n",
    "cv2.waitKey(0) \n",
    "cv2.destroyAllWindows()"
   ]
  },
  {
   "cell_type": "markdown",
   "id": "wicked-jerusalem",
   "metadata": {},
   "source": [
    "## Captura de cámara\n",
    "Es exactamente lo mismo, capturando cuadro a cuadro el video\n"
   ]
  },
  {
   "cell_type": "code",
   "execution_count": null,
   "id": "chronic-official",
   "metadata": {},
   "outputs": [],
   "source": [
    "import cv2\n",
    "import numpy as np\n",
    "cam=cv2.VideoCapture(1) #Qué camara voy a capturar?\n",
    "while(True):\n",
    "    ret, cuadro=cam.read()\n",
    "    #nueva=cv2.cvtColor(cuadro, cv2.COLOR_RGB2GRAY)\n",
    "    #cuadro[:,:,0]=0\n",
    "    #cuadro[:,:,1]=0\n",
    "    #nueva=np.rot90(cuadro,1)\n",
    "    #nueva=cv2.Canny(cuadro, 100, 200)\n",
    "    nueva=cv2.medianBlur(cuadro, 5)\n",
    "    cv2.imshow(\"Nueva\", nueva)\n",
    "    if cv2.waitKey(1) & 0xFF == ord('q'):\n",
    "        break\n",
    "cam.release()\n",
    "cv2.destroyAllWindows()"
   ]
  },
  {
   "cell_type": "code",
   "execution_count": null,
   "id": "sustained-facing",
   "metadata": {},
   "outputs": [],
   "source": [
    "import cv2\n",
    "import numpy as np\n",
    "cam=cv2.VideoCapture(1)\n",
    "while(True):\n",
    "    ret, img=cam.read()\n",
    "    gray = cv2.cvtColor(img, cv2.COLOR_BGR2GRAY)\n",
    "    gray = cv2.medianBlur(gray, 5)\n",
    "    edges = cv2.adaptiveThreshold(gray, 255, cv2.ADAPTIVE_THRESH_MEAN_C, cv2.THRESH_BINARY, 9, 9)\n",
    "    color = cv2.bilateralFilter(img, 9, 300, 300)\n",
    "    cartoon = cv2.bitwise_and(color, color, mask=edges)\n",
    "    cv2.imshow(\"Cartoon\", cartoon)\n",
    "\n",
    "    if cv2.waitKey(1) & 0xFF == ord('q'):\n",
    "        break\n",
    "        \n",
    "cam.release()\n",
    "cv2.destroyAllWindows()\n"
   ]
  },
  {
   "cell_type": "code",
   "execution_count": null,
   "id": "flush-anthony",
   "metadata": {},
   "outputs": [],
   "source": []
  }
 ],
 "metadata": {
  "kernelspec": {
   "display_name": "Python 3",
   "language": "python",
   "name": "python3"
  },
  "language_info": {
   "codemirror_mode": {
    "name": "ipython",
    "version": 3
   },
   "file_extension": ".py",
   "mimetype": "text/x-python",
   "name": "python",
   "nbconvert_exporter": "python",
   "pygments_lexer": "ipython3",
   "version": "3.7.7-final"
  }
 },
 "nbformat": 4,
 "nbformat_minor": 5
}